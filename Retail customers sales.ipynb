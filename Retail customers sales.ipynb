{
 "cells": [
  {
   "cell_type": "code",
   "execution_count": 1,
   "id": "ec4275dc-01d1-4d7d-8be3-8a38aa2cb65c",
   "metadata": {},
   "outputs": [],
   "source": [
    "import numpy as np\n",
    "import pandas as pd\n",
    "import seaborn as sns"
   ]
  },
  {
   "cell_type": "code",
   "execution_count": 2,
   "id": "f027b70c-648e-4bf9-a03d-667d0488783b",
   "metadata": {
    "scrolled": true
   },
   "outputs": [],
   "source": [
    "df = pd.read_csv('retail_customers_dirty (1).csv')"
   ]
  },
  {
   "cell_type": "code",
   "execution_count": 3,
   "id": "b20a53e9-32d7-4281-98a9-ec0e7d0b4b34",
   "metadata": {},
   "outputs": [
    {
     "data": {
      "text/html": [
       "<div>\n",
       "<style scoped>\n",
       "    .dataframe tbody tr th:only-of-type {\n",
       "        vertical-align: middle;\n",
       "    }\n",
       "\n",
       "    .dataframe tbody tr th {\n",
       "        vertical-align: top;\n",
       "    }\n",
       "\n",
       "    .dataframe thead th {\n",
       "        text-align: right;\n",
       "    }\n",
       "</style>\n",
       "<table border=\"1\" class=\"dataframe\">\n",
       "  <thead>\n",
       "    <tr style=\"text-align: right;\">\n",
       "      <th></th>\n",
       "      <th>Customer_ID</th>\n",
       "      <th>Gender</th>\n",
       "      <th>Age</th>\n",
       "      <th>Country</th>\n",
       "      <th>Signup_Date</th>\n",
       "      <th>Preferred_Device</th>\n",
       "      <th>Total_Spend</th>\n",
       "      <th>Avg_Order_Value</th>\n",
       "      <th>Purchase_Frequency</th>\n",
       "      <th>Loyalty_Score</th>\n",
       "      <th>Last_Purchase_Date</th>\n",
       "      <th>Days_Since_Last_Purchase</th>\n",
       "      <th>Is_Churned</th>\n",
       "    </tr>\n",
       "  </thead>\n",
       "  <tbody>\n",
       "    <tr>\n",
       "      <th>0</th>\n",
       "      <td>CUST100000</td>\n",
       "      <td>Male</td>\n",
       "      <td>48.0</td>\n",
       "      <td>Australia</td>\n",
       "      <td>2023-11-19</td>\n",
       "      <td>mobile</td>\n",
       "      <td>136.23</td>\n",
       "      <td>3.89</td>\n",
       "      <td>35</td>\n",
       "      <td>48.62</td>\n",
       "      <td>2023-12-15</td>\n",
       "      <td>507</td>\n",
       "      <td>0</td>\n",
       "    </tr>\n",
       "    <tr>\n",
       "      <th>1</th>\n",
       "      <td>CUST100001</td>\n",
       "      <td>Other</td>\n",
       "      <td>38.0</td>\n",
       "      <td>India</td>\n",
       "      <td>2021-05-29</td>\n",
       "      <td>Mobile</td>\n",
       "      <td>192.85</td>\n",
       "      <td>7.42</td>\n",
       "      <td>26</td>\n",
       "      <td>45.28</td>\n",
       "      <td>2022-03-17</td>\n",
       "      <td>1145</td>\n",
       "      <td>0</td>\n",
       "    </tr>\n",
       "    <tr>\n",
       "      <th>2</th>\n",
       "      <td>CUST100002</td>\n",
       "      <td>Female</td>\n",
       "      <td>53.0</td>\n",
       "      <td>India</td>\n",
       "      <td>2022-05-04</td>\n",
       "      <td>Tablet</td>\n",
       "      <td>264.58</td>\n",
       "      <td>8.27</td>\n",
       "      <td>32</td>\n",
       "      <td>58.46</td>\n",
       "      <td>2024-12-25</td>\n",
       "      <td>131</td>\n",
       "      <td>0</td>\n",
       "    </tr>\n",
       "    <tr>\n",
       "      <th>3</th>\n",
       "      <td>CUST100003</td>\n",
       "      <td>Female</td>\n",
       "      <td>48.0</td>\n",
       "      <td>UK</td>\n",
       "      <td>2022-02-22</td>\n",
       "      <td>Desktop</td>\n",
       "      <td>396.79</td>\n",
       "      <td>44.09</td>\n",
       "      <td>9</td>\n",
       "      <td>48.68</td>\n",
       "      <td>2023-05-02</td>\n",
       "      <td>734</td>\n",
       "      <td>0</td>\n",
       "    </tr>\n",
       "    <tr>\n",
       "      <th>4</th>\n",
       "      <td>CUST100004</td>\n",
       "      <td>Male</td>\n",
       "      <td>63.0</td>\n",
       "      <td>UK</td>\n",
       "      <td>2022-12-04</td>\n",
       "      <td>desktop</td>\n",
       "      <td>749.86</td>\n",
       "      <td>15.3</td>\n",
       "      <td>49</td>\n",
       "      <td>100.00</td>\n",
       "      <td>2023-07-23</td>\n",
       "      <td>652</td>\n",
       "      <td>0</td>\n",
       "    </tr>\n",
       "  </tbody>\n",
       "</table>\n",
       "</div>"
      ],
      "text/plain": [
       "  Customer_ID  Gender   Age    Country Signup_Date Preferred_Device  \\\n",
       "0  CUST100000    Male  48.0  Australia  2023-11-19           mobile   \n",
       "1  CUST100001   Other  38.0      India  2021-05-29           Mobile   \n",
       "2  CUST100002  Female  53.0      India  2022-05-04           Tablet   \n",
       "3  CUST100003  Female  48.0         UK  2022-02-22          Desktop   \n",
       "4  CUST100004    Male  63.0         UK  2022-12-04          desktop   \n",
       "\n",
       "   Total_Spend Avg_Order_Value  Purchase_Frequency  Loyalty_Score  \\\n",
       "0       136.23            3.89                  35          48.62   \n",
       "1       192.85            7.42                  26          45.28   \n",
       "2       264.58            8.27                  32          58.46   \n",
       "3       396.79           44.09                   9          48.68   \n",
       "4       749.86            15.3                  49         100.00   \n",
       "\n",
       "  Last_Purchase_Date  Days_Since_Last_Purchase  Is_Churned  \n",
       "0         2023-12-15                       507           0  \n",
       "1         2022-03-17                      1145           0  \n",
       "2         2024-12-25                       131           0  \n",
       "3         2023-05-02                       734           0  \n",
       "4         2023-07-23                       652           0  "
      ]
     },
     "execution_count": 3,
     "metadata": {},
     "output_type": "execute_result"
    }
   ],
   "source": [
    "df.head()"
   ]
  },
  {
   "cell_type": "code",
   "execution_count": 4,
   "id": "831d5dbf-0231-44b9-9fac-5e57d2a74d8e",
   "metadata": {},
   "outputs": [
    {
     "name": "stdout",
     "output_type": "stream",
     "text": [
      "<class 'pandas.core.frame.DataFrame'>\n",
      "RangeIndex: 10000 entries, 0 to 9999\n",
      "Data columns (total 13 columns):\n",
      " #   Column                    Non-Null Count  Dtype  \n",
      "---  ------                    --------------  -----  \n",
      " 0   Customer_ID               10000 non-null  object \n",
      " 1   Gender                    9736 non-null   object \n",
      " 2   Age                       9749 non-null   float64\n",
      " 3   Country                   9508 non-null   object \n",
      " 4   Signup_Date               10000 non-null  object \n",
      " 5   Preferred_Device          9784 non-null   object \n",
      " 6   Total_Spend               9700 non-null   float64\n",
      " 7   Avg_Order_Value           10000 non-null  object \n",
      " 8   Purchase_Frequency        10000 non-null  int64  \n",
      " 9   Loyalty_Score             10000 non-null  float64\n",
      " 10  Last_Purchase_Date        10000 non-null  object \n",
      " 11  Days_Since_Last_Purchase  10000 non-null  int64  \n",
      " 12  Is_Churned                10000 non-null  int64  \n",
      "dtypes: float64(3), int64(3), object(7)\n",
      "memory usage: 1015.8+ KB\n"
     ]
    }
   ],
   "source": [
    "df.info()"
   ]
  },
  {
   "cell_type": "code",
   "execution_count": 5,
   "id": "884772f8-f928-413d-aa52-0e9489c56c7f",
   "metadata": {},
   "outputs": [
    {
     "data": {
      "text/plain": [
       "(10000, 13)"
      ]
     },
     "execution_count": 5,
     "metadata": {},
     "output_type": "execute_result"
    }
   ],
   "source": [
    "df.shape"
   ]
  },
  {
   "cell_type": "code",
   "execution_count": 6,
   "id": "2ef4e4e5-0aa0-4061-b75c-443ea7741ead",
   "metadata": {},
   "outputs": [
    {
     "data": {
      "text/plain": [
       "Customer_ID                   0\n",
       "Gender                      264\n",
       "Age                         251\n",
       "Country                     492\n",
       "Signup_Date                   0\n",
       "Preferred_Device            216\n",
       "Total_Spend                 300\n",
       "Avg_Order_Value               0\n",
       "Purchase_Frequency            0\n",
       "Loyalty_Score                 0\n",
       "Last_Purchase_Date            0\n",
       "Days_Since_Last_Purchase      0\n",
       "Is_Churned                    0\n",
       "dtype: int64"
      ]
     },
     "execution_count": 6,
     "metadata": {},
     "output_type": "execute_result"
    }
   ],
   "source": [
    "df.isnull().sum()"
   ]
  },
  {
   "cell_type": "code",
   "execution_count": 7,
   "id": "8b35f3a4-a485-44cd-86fc-66a42e156180",
   "metadata": {},
   "outputs": [
    {
     "data": {
      "text/plain": [
       "np.float64(44.12503846548364)"
      ]
     },
     "execution_count": 7,
     "metadata": {},
     "output_type": "execute_result"
    }
   ],
   "source": [
    "df['Age'].mean()"
   ]
  },
  {
   "cell_type": "code",
   "execution_count": 8,
   "id": "706173f1-8513-4802-b938-32d26828e6a1",
   "metadata": {},
   "outputs": [
    {
     "data": {
      "text/plain": [
       "Customer_ID                   0\n",
       "Gender                      264\n",
       "Age                         251\n",
       "Country                     492\n",
       "Signup_Date                   0\n",
       "Preferred_Device            216\n",
       "Total_Spend                 300\n",
       "Avg_Order_Value               0\n",
       "Purchase_Frequency            0\n",
       "Loyalty_Score                 0\n",
       "Last_Purchase_Date            0\n",
       "Days_Since_Last_Purchase      0\n",
       "Is_Churned                    0\n",
       "dtype: int64"
      ]
     },
     "execution_count": 8,
     "metadata": {},
     "output_type": "execute_result"
    }
   ],
   "source": [
    "df.isnull().sum()"
   ]
  },
  {
   "cell_type": "code",
   "execution_count": 9,
   "id": "9cd63fdc-e820-44ad-8196-46ea50b887e1",
   "metadata": {},
   "outputs": [
    {
     "data": {
      "text/plain": [
       "np.float64(298.87011134020617)"
      ]
     },
     "execution_count": 9,
     "metadata": {},
     "output_type": "execute_result"
    }
   ],
   "source": [
    "df['Total_Spend'].mean()"
   ]
  },
  {
   "cell_type": "code",
   "execution_count": 10,
   "id": "f45630f3-c38f-4b12-9c81-3da4415bac11",
   "metadata": {},
   "outputs": [],
   "source": [
    "df['Total_Spend']=df['Total_Spend'].fillna(299)"
   ]
  },
  {
   "cell_type": "code",
   "execution_count": 11,
   "id": "8eabfffe-e8bf-4971-b92d-293dcc9bc1b7",
   "metadata": {},
   "outputs": [
    {
     "data": {
      "text/plain": [
       "Customer_ID                   0\n",
       "Gender                      264\n",
       "Age                         251\n",
       "Country                     492\n",
       "Signup_Date                   0\n",
       "Preferred_Device            216\n",
       "Total_Spend                   0\n",
       "Avg_Order_Value               0\n",
       "Purchase_Frequency            0\n",
       "Loyalty_Score                 0\n",
       "Last_Purchase_Date            0\n",
       "Days_Since_Last_Purchase      0\n",
       "Is_Churned                    0\n",
       "dtype: int64"
      ]
     },
     "execution_count": 11,
     "metadata": {},
     "output_type": "execute_result"
    }
   ],
   "source": [
    "df.isnull().sum()"
   ]
  },
  {
   "cell_type": "code",
   "execution_count": 12,
   "id": "5a11e10b-bb43-4bfd-9e09-30748666d49c",
   "metadata": {},
   "outputs": [
    {
     "data": {
      "text/plain": [
       "Preferred_Device\n",
       "Mobile     5025\n",
       "Desktop    2441\n",
       "Tablet      994\n",
       "desktop     534\n",
       "mobile      476\n",
       "MOBILE      314\n",
       "Name: count, dtype: int64"
      ]
     },
     "execution_count": 12,
     "metadata": {},
     "output_type": "execute_result"
    }
   ],
   "source": [
    "df['Preferred_Device'].value_counts()"
   ]
  },
  {
   "cell_type": "code",
   "execution_count": 13,
   "id": "98595e30-8eb1-4cff-a2d9-56e33a43363b",
   "metadata": {},
   "outputs": [
    {
     "name": "stdout",
     "output_type": "stream",
     "text": [
      "Gender\n",
      "Male      4582\n",
      "Female    4457\n",
      "Other      325\n",
      "NaN        264\n",
      "M          197\n",
      "F          175\n",
      "Name: count, dtype: int64\n"
     ]
    }
   ],
   "source": [
    "print(df['Gender'].value_counts(dropna=False))"
   ]
  },
  {
   "cell_type": "code",
   "execution_count": 14,
   "id": "7d7d1173-16a5-4a9d-8757-de650718a9ac",
   "metadata": {},
   "outputs": [],
   "source": [
    "df['Gender'] = df['Gender'].replace({'M':'Male','F':'Female'})"
   ]
  },
  {
   "cell_type": "code",
   "execution_count": 15,
   "id": "f2d5a31e-be26-482f-859d-77b1e7bb180a",
   "metadata": {},
   "outputs": [
    {
     "name": "stdout",
     "output_type": "stream",
     "text": [
      "Gender\n",
      "Male      4779\n",
      "Female    4632\n",
      "Other      325\n",
      "NaN        264\n",
      "Name: count, dtype: int64\n"
     ]
    }
   ],
   "source": [
    "print(df['Gender'].value_counts(dropna=False))"
   ]
  },
  {
   "cell_type": "code",
   "execution_count": 16,
   "id": "97ad36c7-a9ba-4590-922d-d4b1af507f40",
   "metadata": {},
   "outputs": [
    {
     "name": "stdout",
     "output_type": "stream",
     "text": [
      "Gender\n",
      "Male       4779\n",
      "Female     4632\n",
      "Other       325\n",
      "Unknown     264\n",
      "Name: count, dtype: int64\n"
     ]
    }
   ],
   "source": [
    "df['Gender'] = df['Gender'].fillna('Unknown')\n",
    "print(df['Gender'].value_counts())"
   ]
  },
  {
   "cell_type": "code",
   "execution_count": 17,
   "id": "ba97e41e-1b17-41f1-915c-665195a54612",
   "metadata": {},
   "outputs": [
    {
     "data": {
      "text/plain": [
       "Customer_ID                   0\n",
       "Gender                        0\n",
       "Age                         251\n",
       "Country                     492\n",
       "Signup_Date                   0\n",
       "Preferred_Device            216\n",
       "Total_Spend                   0\n",
       "Avg_Order_Value               0\n",
       "Purchase_Frequency            0\n",
       "Loyalty_Score                 0\n",
       "Last_Purchase_Date            0\n",
       "Days_Since_Last_Purchase      0\n",
       "Is_Churned                    0\n",
       "dtype: int64"
      ]
     },
     "execution_count": 17,
     "metadata": {},
     "output_type": "execute_result"
    }
   ],
   "source": [
    "df.isnull().sum()"
   ]
  },
  {
   "cell_type": "code",
   "execution_count": 18,
   "id": "9370a196-0b40-4d2d-9627-6370656f0bbb",
   "metadata": {},
   "outputs": [
    {
     "data": {
      "text/plain": [
       "Country\n",
       "India        2564\n",
       "USA          2437\n",
       "UK           1547\n",
       "Canada       1031\n",
       "Australia     993\n",
       "Germany       936\n",
       "Name: count, dtype: int64"
      ]
     },
     "execution_count": 18,
     "metadata": {},
     "output_type": "execute_result"
    }
   ],
   "source": [
    "df['Country'].value_counts()"
   ]
  },
  {
   "cell_type": "code",
   "execution_count": 19,
   "id": "b221c96e-6158-4917-a87b-b240922d8366",
   "metadata": {},
   "outputs": [],
   "source": [
    "df['Country']= df['Country'].fillna('India')"
   ]
  },
  {
   "cell_type": "code",
   "execution_count": 20,
   "id": "a212c40f-2e37-403b-895d-0263f8d493ea",
   "metadata": {},
   "outputs": [
    {
     "data": {
      "text/plain": [
       "Customer_ID                   0\n",
       "Gender                        0\n",
       "Age                         251\n",
       "Country                       0\n",
       "Signup_Date                   0\n",
       "Preferred_Device            216\n",
       "Total_Spend                   0\n",
       "Avg_Order_Value               0\n",
       "Purchase_Frequency            0\n",
       "Loyalty_Score                 0\n",
       "Last_Purchase_Date            0\n",
       "Days_Since_Last_Purchase      0\n",
       "Is_Churned                    0\n",
       "dtype: int64"
      ]
     },
     "execution_count": 20,
     "metadata": {},
     "output_type": "execute_result"
    }
   ],
   "source": [
    "df.isnull().sum()"
   ]
  },
  {
   "cell_type": "code",
   "execution_count": 21,
   "id": "d0944934-84e5-48fa-91d2-74d64ad13910",
   "metadata": {},
   "outputs": [
    {
     "data": {
      "text/plain": [
       "Preferred_Device\n",
       "Mobile     5025\n",
       "Desktop    2441\n",
       "Tablet      994\n",
       "desktop     534\n",
       "mobile      476\n",
       "MOBILE      314\n",
       "Name: count, dtype: int64"
      ]
     },
     "execution_count": 21,
     "metadata": {},
     "output_type": "execute_result"
    }
   ],
   "source": [
    "df['Preferred_Device'].value_counts()"
   ]
  },
  {
   "cell_type": "code",
   "execution_count": 22,
   "id": "6cc10ea2-b9a0-448e-bc32-166e140ee075",
   "metadata": {},
   "outputs": [],
   "source": [
    "df['Preferred_Device'] = df['Preferred_Device'].fillna('Mobile')\n"
   ]
  },
  {
   "cell_type": "code",
   "execution_count": 23,
   "id": "bd59c3cd-4e41-4a49-8882-bca292ebd31b",
   "metadata": {},
   "outputs": [],
   "source": [
    "df['Preferred_Device'] = df['Preferred_Device'].replace({\n",
    "                              'MOBILE':'Mobile',\n",
    "                                'mobile':'Mobile',\n",
    "                                'decktop':'Desktop'})"
   ]
  },
  {
   "cell_type": "code",
   "execution_count": 24,
   "id": "ad0f1285-d5ff-4eed-aa44-429dde57d4e6",
   "metadata": {},
   "outputs": [
    {
     "data": {
      "text/plain": [
       "Customer_ID                   0\n",
       "Gender                        0\n",
       "Age                         251\n",
       "Country                       0\n",
       "Signup_Date                   0\n",
       "Preferred_Device              0\n",
       "Total_Spend                   0\n",
       "Avg_Order_Value               0\n",
       "Purchase_Frequency            0\n",
       "Loyalty_Score                 0\n",
       "Last_Purchase_Date            0\n",
       "Days_Since_Last_Purchase      0\n",
       "Is_Churned                    0\n",
       "dtype: int64"
      ]
     },
     "execution_count": 24,
     "metadata": {},
     "output_type": "execute_result"
    }
   ],
   "source": [
    "df.isnull().sum()"
   ]
  },
  {
   "cell_type": "code",
   "execution_count": 25,
   "id": "8f41d071-002d-4119-8440-94197350a2fc",
   "metadata": {},
   "outputs": [],
   "source": [
    "df['Age']=df['Age'].fillna(44)"
   ]
  },
  {
   "cell_type": "code",
   "execution_count": 26,
   "id": "8d1c2fb0-3e93-4683-9a20-c2f81eb287c1",
   "metadata": {},
   "outputs": [
    {
     "data": {
      "text/plain": [
       "Customer_ID                 0\n",
       "Gender                      0\n",
       "Age                         0\n",
       "Country                     0\n",
       "Signup_Date                 0\n",
       "Preferred_Device            0\n",
       "Total_Spend                 0\n",
       "Avg_Order_Value             0\n",
       "Purchase_Frequency          0\n",
       "Loyalty_Score               0\n",
       "Last_Purchase_Date          0\n",
       "Days_Since_Last_Purchase    0\n",
       "Is_Churned                  0\n",
       "dtype: int64"
      ]
     },
     "execution_count": 26,
     "metadata": {},
     "output_type": "execute_result"
    }
   ],
   "source": [
    "df.isnull().sum()"
   ]
  },
  {
   "cell_type": "code",
   "execution_count": 27,
   "id": "cafeb285-9e90-4432-8095-400a9e4a6503",
   "metadata": {},
   "outputs": [
    {
     "data": {
      "text/html": [
       "<div>\n",
       "<style scoped>\n",
       "    .dataframe tbody tr th:only-of-type {\n",
       "        vertical-align: middle;\n",
       "    }\n",
       "\n",
       "    .dataframe tbody tr th {\n",
       "        vertical-align: top;\n",
       "    }\n",
       "\n",
       "    .dataframe thead th {\n",
       "        text-align: right;\n",
       "    }\n",
       "</style>\n",
       "<table border=\"1\" class=\"dataframe\">\n",
       "  <thead>\n",
       "    <tr style=\"text-align: right;\">\n",
       "      <th></th>\n",
       "      <th>Age</th>\n",
       "      <th>Total_Spend</th>\n",
       "      <th>Purchase_Frequency</th>\n",
       "      <th>Loyalty_Score</th>\n",
       "      <th>Days_Since_Last_Purchase</th>\n",
       "      <th>Is_Churned</th>\n",
       "    </tr>\n",
       "  </thead>\n",
       "  <tbody>\n",
       "    <tr>\n",
       "      <th>count</th>\n",
       "      <td>10000.000000</td>\n",
       "      <td>10000.000000</td>\n",
       "      <td>10000.00000</td>\n",
       "      <td>10000.000000</td>\n",
       "      <td>10000.000000</td>\n",
       "      <td>10000.000000</td>\n",
       "    </tr>\n",
       "    <tr>\n",
       "      <th>mean</th>\n",
       "      <td>44.121900</td>\n",
       "      <td>298.874008</td>\n",
       "      <td>25.05930</td>\n",
       "      <td>52.340292</td>\n",
       "      <td>548.080700</td>\n",
       "      <td>0.054400</td>\n",
       "    </tr>\n",
       "    <tr>\n",
       "      <th>std</th>\n",
       "      <td>17.526795</td>\n",
       "      <td>290.580024</td>\n",
       "      <td>14.05864</td>\n",
       "      <td>25.978664</td>\n",
       "      <td>404.797418</td>\n",
       "      <td>0.226817</td>\n",
       "    </tr>\n",
       "    <tr>\n",
       "      <th>min</th>\n",
       "      <td>5.000000</td>\n",
       "      <td>0.040000</td>\n",
       "      <td>1.00000</td>\n",
       "      <td>2.000000</td>\n",
       "      <td>1.000000</td>\n",
       "      <td>0.000000</td>\n",
       "    </tr>\n",
       "    <tr>\n",
       "      <th>25%</th>\n",
       "      <td>31.000000</td>\n",
       "      <td>91.207500</td>\n",
       "      <td>13.00000</td>\n",
       "      <td>32.560000</td>\n",
       "      <td>226.000000</td>\n",
       "      <td>0.000000</td>\n",
       "    </tr>\n",
       "    <tr>\n",
       "      <th>50%</th>\n",
       "      <td>44.000000</td>\n",
       "      <td>217.385000</td>\n",
       "      <td>25.00000</td>\n",
       "      <td>49.015000</td>\n",
       "      <td>455.000000</td>\n",
       "      <td>0.000000</td>\n",
       "    </tr>\n",
       "    <tr>\n",
       "      <th>75%</th>\n",
       "      <td>57.000000</td>\n",
       "      <td>407.965000</td>\n",
       "      <td>37.00000</td>\n",
       "      <td>69.915000</td>\n",
       "      <td>802.000000</td>\n",
       "      <td>0.000000</td>\n",
       "    </tr>\n",
       "    <tr>\n",
       "      <th>max</th>\n",
       "      <td>120.000000</td>\n",
       "      <td>2665.470000</td>\n",
       "      <td>49.00000</td>\n",
       "      <td>100.000000</td>\n",
       "      <td>1802.000000</td>\n",
       "      <td>1.000000</td>\n",
       "    </tr>\n",
       "  </tbody>\n",
       "</table>\n",
       "</div>"
      ],
      "text/plain": [
       "                Age   Total_Spend  Purchase_Frequency  Loyalty_Score  \\\n",
       "count  10000.000000  10000.000000         10000.00000   10000.000000   \n",
       "mean      44.121900    298.874008            25.05930      52.340292   \n",
       "std       17.526795    290.580024            14.05864      25.978664   \n",
       "min        5.000000      0.040000             1.00000       2.000000   \n",
       "25%       31.000000     91.207500            13.00000      32.560000   \n",
       "50%       44.000000    217.385000            25.00000      49.015000   \n",
       "75%       57.000000    407.965000            37.00000      69.915000   \n",
       "max      120.000000   2665.470000            49.00000     100.000000   \n",
       "\n",
       "       Days_Since_Last_Purchase    Is_Churned  \n",
       "count              10000.000000  10000.000000  \n",
       "mean                 548.080700      0.054400  \n",
       "std                  404.797418      0.226817  \n",
       "min                    1.000000      0.000000  \n",
       "25%                  226.000000      0.000000  \n",
       "50%                  455.000000      0.000000  \n",
       "75%                  802.000000      0.000000  \n",
       "max                 1802.000000      1.000000  "
      ]
     },
     "execution_count": 27,
     "metadata": {},
     "output_type": "execute_result"
    }
   ],
   "source": [
    "df.describe()"
   ]
  },
  {
   "cell_type": "code",
   "execution_count": 28,
   "id": "4385278c-bc2e-41d3-8270-763ccb714ddb",
   "metadata": {},
   "outputs": [
    {
     "data": {
      "text/plain": [
       "np.int64(439)"
      ]
     },
     "execution_count": 28,
     "metadata": {},
     "output_type": "execute_result"
    }
   ],
   "source": [
    "(df['Age'] ==44).sum()"
   ]
  },
  {
   "cell_type": "code",
   "execution_count": 29,
   "id": "8642e36d-2026-4cca-b5fd-0a05f846c3bc",
   "metadata": {},
   "outputs": [
    {
     "data": {
      "text/html": [
       "<div>\n",
       "<style scoped>\n",
       "    .dataframe tbody tr th:only-of-type {\n",
       "        vertical-align: middle;\n",
       "    }\n",
       "\n",
       "    .dataframe tbody tr th {\n",
       "        vertical-align: top;\n",
       "    }\n",
       "\n",
       "    .dataframe thead th {\n",
       "        text-align: right;\n",
       "    }\n",
       "</style>\n",
       "<table border=\"1\" class=\"dataframe\">\n",
       "  <thead>\n",
       "    <tr style=\"text-align: right;\">\n",
       "      <th></th>\n",
       "      <th>Customer_ID</th>\n",
       "      <th>Gender</th>\n",
       "      <th>Age</th>\n",
       "      <th>Country</th>\n",
       "      <th>Signup_Date</th>\n",
       "      <th>Preferred_Device</th>\n",
       "      <th>Total_Spend</th>\n",
       "      <th>Avg_Order_Value</th>\n",
       "      <th>Purchase_Frequency</th>\n",
       "      <th>Loyalty_Score</th>\n",
       "      <th>Last_Purchase_Date</th>\n",
       "      <th>Days_Since_Last_Purchase</th>\n",
       "      <th>Is_Churned</th>\n",
       "    </tr>\n",
       "  </thead>\n",
       "  <tbody>\n",
       "    <tr>\n",
       "      <th>16</th>\n",
       "      <td>CUST100016</td>\n",
       "      <td>Male</td>\n",
       "      <td>44.0</td>\n",
       "      <td>UK</td>\n",
       "      <td>2021-01-17</td>\n",
       "      <td>Mobile</td>\n",
       "      <td>1756.12</td>\n",
       "      <td>87.81</td>\n",
       "      <td>20</td>\n",
       "      <td>100.00</td>\n",
       "      <td>2023-02-25</td>\n",
       "      <td>800</td>\n",
       "      <td>0</td>\n",
       "    </tr>\n",
       "    <tr>\n",
       "      <th>225</th>\n",
       "      <td>CUST100225</td>\n",
       "      <td>Male</td>\n",
       "      <td>44.0</td>\n",
       "      <td>USA</td>\n",
       "      <td>2021-07-07</td>\n",
       "      <td>Mobile</td>\n",
       "      <td>528.83</td>\n",
       "      <td>21.15</td>\n",
       "      <td>25</td>\n",
       "      <td>77.88</td>\n",
       "      <td>2025-02-07</td>\n",
       "      <td>87</td>\n",
       "      <td>0</td>\n",
       "    </tr>\n",
       "    <tr>\n",
       "      <th>247</th>\n",
       "      <td>CUST100247</td>\n",
       "      <td>Other</td>\n",
       "      <td>44.0</td>\n",
       "      <td>Canada</td>\n",
       "      <td>2022-10-21</td>\n",
       "      <td>Desktop</td>\n",
       "      <td>441.42</td>\n",
       "      <td>19.19</td>\n",
       "      <td>23</td>\n",
       "      <td>67.14</td>\n",
       "      <td>2024-05-28</td>\n",
       "      <td>342</td>\n",
       "      <td>0</td>\n",
       "    </tr>\n",
       "    <tr>\n",
       "      <th>250</th>\n",
       "      <td>CUST100250</td>\n",
       "      <td>Male</td>\n",
       "      <td>44.0</td>\n",
       "      <td>UK</td>\n",
       "      <td>2021-04-03</td>\n",
       "      <td>Desktop</td>\n",
       "      <td>435.26</td>\n",
       "      <td>15.54</td>\n",
       "      <td>28</td>\n",
       "      <td>71.53</td>\n",
       "      <td>2024-12-05</td>\n",
       "      <td>151</td>\n",
       "      <td>0</td>\n",
       "    </tr>\n",
       "    <tr>\n",
       "      <th>263</th>\n",
       "      <td>CUST100263</td>\n",
       "      <td>Female</td>\n",
       "      <td>44.0</td>\n",
       "      <td>Canada</td>\n",
       "      <td>2023-02-02</td>\n",
       "      <td>Tablet</td>\n",
       "      <td>150.37</td>\n",
       "      <td>7.91</td>\n",
       "      <td>19</td>\n",
       "      <td>34.04</td>\n",
       "      <td>2025-01-26</td>\n",
       "      <td>99</td>\n",
       "      <td>0</td>\n",
       "    </tr>\n",
       "    <tr>\n",
       "      <th>...</th>\n",
       "      <td>...</td>\n",
       "      <td>...</td>\n",
       "      <td>...</td>\n",
       "      <td>...</td>\n",
       "      <td>...</td>\n",
       "      <td>...</td>\n",
       "      <td>...</td>\n",
       "      <td>...</td>\n",
       "      <td>...</td>\n",
       "      <td>...</td>\n",
       "      <td>...</td>\n",
       "      <td>...</td>\n",
       "      <td>...</td>\n",
       "    </tr>\n",
       "    <tr>\n",
       "      <th>9904</th>\n",
       "      <td>CUST109904</td>\n",
       "      <td>Female</td>\n",
       "      <td>44.0</td>\n",
       "      <td>USA</td>\n",
       "      <td>2021-01-31</td>\n",
       "      <td>Mobile</td>\n",
       "      <td>13.41</td>\n",
       "      <td>0.64</td>\n",
       "      <td>21</td>\n",
       "      <td>22.34</td>\n",
       "      <td>2022-12-12</td>\n",
       "      <td>875</td>\n",
       "      <td>0</td>\n",
       "    </tr>\n",
       "    <tr>\n",
       "      <th>9957</th>\n",
       "      <td>CUST109957</td>\n",
       "      <td>Female</td>\n",
       "      <td>44.0</td>\n",
       "      <td>UK</td>\n",
       "      <td>2021-10-16</td>\n",
       "      <td>Mobile</td>\n",
       "      <td>343.78</td>\n",
       "      <td>171.89</td>\n",
       "      <td>2</td>\n",
       "      <td>36.38</td>\n",
       "      <td>2022-11-17</td>\n",
       "      <td>900</td>\n",
       "      <td>0</td>\n",
       "    </tr>\n",
       "    <tr>\n",
       "      <th>9959</th>\n",
       "      <td>CUST109959</td>\n",
       "      <td>Male</td>\n",
       "      <td>44.0</td>\n",
       "      <td>Australia</td>\n",
       "      <td>2023-10-27</td>\n",
       "      <td>Mobile</td>\n",
       "      <td>202.19</td>\n",
       "      <td>4.13</td>\n",
       "      <td>49</td>\n",
       "      <td>69.22</td>\n",
       "      <td>2024-01-22</td>\n",
       "      <td>469</td>\n",
       "      <td>0</td>\n",
       "    </tr>\n",
       "    <tr>\n",
       "      <th>9969</th>\n",
       "      <td>CUST109969</td>\n",
       "      <td>Male</td>\n",
       "      <td>44.0</td>\n",
       "      <td>Germany</td>\n",
       "      <td>2022-11-28</td>\n",
       "      <td>Desktop</td>\n",
       "      <td>1361.04</td>\n",
       "      <td>36.78</td>\n",
       "      <td>37</td>\n",
       "      <td>100.00</td>\n",
       "      <td>2024-12-25</td>\n",
       "      <td>131</td>\n",
       "      <td>0</td>\n",
       "    </tr>\n",
       "    <tr>\n",
       "      <th>9993</th>\n",
       "      <td>CUST109993</td>\n",
       "      <td>Female</td>\n",
       "      <td>44.0</td>\n",
       "      <td>USA</td>\n",
       "      <td>2021-04-28</td>\n",
       "      <td>Mobile</td>\n",
       "      <td>0.25</td>\n",
       "      <td>0.01</td>\n",
       "      <td>45</td>\n",
       "      <td>45.02</td>\n",
       "      <td>2025-04-27</td>\n",
       "      <td>8</td>\n",
       "      <td>0</td>\n",
       "    </tr>\n",
       "  </tbody>\n",
       "</table>\n",
       "<p>439 rows × 13 columns</p>\n",
       "</div>"
      ],
      "text/plain": [
       "     Customer_ID  Gender   Age    Country Signup_Date Preferred_Device  \\\n",
       "16    CUST100016    Male  44.0         UK  2021-01-17           Mobile   \n",
       "225   CUST100225    Male  44.0        USA  2021-07-07           Mobile   \n",
       "247   CUST100247   Other  44.0     Canada  2022-10-21          Desktop   \n",
       "250   CUST100250    Male  44.0         UK  2021-04-03          Desktop   \n",
       "263   CUST100263  Female  44.0     Canada  2023-02-02           Tablet   \n",
       "...          ...     ...   ...        ...         ...              ...   \n",
       "9904  CUST109904  Female  44.0        USA  2021-01-31           Mobile   \n",
       "9957  CUST109957  Female  44.0         UK  2021-10-16           Mobile   \n",
       "9959  CUST109959    Male  44.0  Australia  2023-10-27           Mobile   \n",
       "9969  CUST109969    Male  44.0    Germany  2022-11-28          Desktop   \n",
       "9993  CUST109993  Female  44.0        USA  2021-04-28           Mobile   \n",
       "\n",
       "      Total_Spend Avg_Order_Value  Purchase_Frequency  Loyalty_Score  \\\n",
       "16        1756.12           87.81                  20         100.00   \n",
       "225        528.83           21.15                  25          77.88   \n",
       "247        441.42           19.19                  23          67.14   \n",
       "250        435.26           15.54                  28          71.53   \n",
       "263        150.37            7.91                  19          34.04   \n",
       "...           ...             ...                 ...            ...   \n",
       "9904        13.41            0.64                  21          22.34   \n",
       "9957       343.78          171.89                   2          36.38   \n",
       "9959       202.19            4.13                  49          69.22   \n",
       "9969      1361.04           36.78                  37         100.00   \n",
       "9993         0.25            0.01                  45          45.02   \n",
       "\n",
       "     Last_Purchase_Date  Days_Since_Last_Purchase  Is_Churned  \n",
       "16           2023-02-25                       800           0  \n",
       "225          2025-02-07                        87           0  \n",
       "247          2024-05-28                       342           0  \n",
       "250          2024-12-05                       151           0  \n",
       "263          2025-01-26                        99           0  \n",
       "...                 ...                       ...         ...  \n",
       "9904         2022-12-12                       875           0  \n",
       "9957         2022-11-17                       900           0  \n",
       "9959         2024-01-22                       469           0  \n",
       "9969         2024-12-25                       131           0  \n",
       "9993         2025-04-27                         8           0  \n",
       "\n",
       "[439 rows x 13 columns]"
      ]
     },
     "execution_count": 29,
     "metadata": {},
     "output_type": "execute_result"
    }
   ],
   "source": [
    "df[df['Age'] ==44]"
   ]
  },
  {
   "cell_type": "code",
   "execution_count": 30,
   "id": "01b0b75b-01c8-49c0-9607-968a482def40",
   "metadata": {},
   "outputs": [
    {
     "data": {
      "text/plain": [
       "<Axes: ylabel='Age'>"
      ]
     },
     "execution_count": 30,
     "metadata": {},
     "output_type": "execute_result"
    },
    {
     "data": {
      "image/png": "[encoded data removed]",
      "text/plain": [
       "<Figure size 640x480 with 1 Axes>"
      ]
     },
     "metadata": {},
     "output_type": "display_data"
    }
   ],
   "source": [
    "sns.boxplot(df['Age'])"
   ]
  },
  {
   "cell_type": "code",
   "execution_count": 31,
   "id": "9e22b2f6-9234-4161-869c-7275c45771bb",
   "metadata": {},
   "outputs": [
    {
     "data": {
      "text/plain": [
       "<Axes: ylabel='Gender'>"
      ]
     },
     "execution_count": 31,
     "metadata": {},
     "output_type": "execute_result"
    },
    {
     "data": {
      "image/png": "[encoded data removed]",
      "text/plain": [
       "<Figure size 640x480 with 1 Axes>"
      ]
     },
     "metadata": {},
     "output_type": "display_data"
    }
   ],
   "source": [
    "sns.boxplot(df['Gender'])"
   ]
  },
  {
   "cell_type": "code",
   "execution_count": 32,
   "id": "454a6553-45ab-4b1e-967e-e8d436ed0389",
   "metadata": {
    "scrolled": true
   },
   "outputs": [
    {
     "data": {
      "text/plain": [
       "<Axes: ylabel='Country'>"
      ]
     },
     "execution_count": 32,
     "metadata": {},
     "output_type": "execute_result"
    },
    {
     "data": {
      "image/png": "[encoded data removed]",
      "text/plain": [
       "<Figure size 640x480 with 1 Axes>"
      ]
     },
     "metadata": {},
     "output_type": "display_data"
    }
   ],
   "source": [
    "sns.boxplot(df['Country'])"
   ]
  },
  {
   "cell_type": "code",
   "execution_count": 33,
   "id": "07c9b8ca-9692-4c9e-a514-ea99573e89e5",
   "metadata": {
    "scrolled": true
   },
   "outputs": [
    {
     "data": {
      "text/plain": [
       "<Axes: ylabel='Preferred_Device'>"
      ]
     },
     "execution_count": 33,
     "metadata": {},
     "output_type": "execute_result"
    },
    {
     "data": {
      "image/png": "[encoded data removed]",
      "text/plain": [
       "<Figure size 640x480 with 1 Axes>"
      ]
     },
     "metadata": {},
     "output_type": "display_data"
    }
   ],
   "source": [
    "sns.boxplot(df['Preferred_Device'])"
   ]
  },
  {
   "cell_type": "code",
   "execution_count": 34,
   "id": "c6df5d31-95ba-4873-920c-d36fdbba6fb1",
   "metadata": {},
   "outputs": [
    {
     "data": {
      "text/plain": [
       "<Axes: ylabel='Total_Spend'>"
      ]
     },
     "execution_count": 34,
     "metadata": {},
     "output_type": "execute_result"
    },
    {
     "data": {
      "image/png": "[encoded data removed]",
      "text/plain": [
       "<Figure size 640x480 with 1 Axes>"
      ]
     },
     "metadata": {},
     "output_type": "display_data"
    }
   ],
   "source": [
    "sns.boxplot(df['Total_Spend'])"
   ]
  },
  {
   "cell_type": "markdown",
   "id": "9929d589-0189-4ab4-b566-79c5f671365a",
   "metadata": {},
   "source": [
    "##### **Data cleaning ends here**"
   ]
  },
  {
   "cell_type": "code",
   "execution_count": 35,
   "id": "2017c25d-99fc-4136-9d0b-34204b66baa3",
   "metadata": {},
   "outputs": [],
   "source": [
    "import seaborn as sns\n",
    "import matplotlib.pyplot as plt"
   ]
  },
  {
   "cell_type": "code",
   "execution_count": 36,
   "id": "5cc17a88-3688-49a9-a3ca-2f961699262e",
   "metadata": {},
   "outputs": [
    {
     "data": {
      "image/png": "[encoded data removed]",
      "text/plain": [
       "<Figure size 640x480 with 1 Axes>"
      ]
     },
     "metadata": {},
     "output_type": "display_data"
    }
   ],
   "source": [
    "sns.countplot(data=df,x='Gender')\n",
    "plt.title('People count by Gender')\n",
    "plt.show()"
   ]
  },
  {
   "cell_type": "code",
   "execution_count": 37,
   "id": "e512efd5-d196-4cca-8132-76634757aa41",
   "metadata": {},
   "outputs": [
    {
     "data": {
      "image/png": "[encoded data removed]",
      "text/plain": [
       "<Figure size 640x480 with 1 Axes>"
      ]
     },
     "metadata": {},
     "output_type": "display_data"
    }
   ],
   "source": [
    "sns.countplot(data=df,x='Age')\n",
    "plt.title('People count by Age')\n",
    "plt.show()"
   ]
  },
  {
   "cell_type": "code",
   "execution_count": 38,
   "id": "35a3e97b-716d-48d1-b85a-701e86702d5e",
   "metadata": {},
   "outputs": [
    {
     "data": {
      "image/png": "[encoded data removed]",
      "text/plain": [
       "<Figure size 640x480 with 1 Axes>"
      ]
     },
     "metadata": {},
     "output_type": "display_data"
    }
   ],
   "source": [
    "sns.countplot(data=df,x='Country')\n",
    "plt.title('People count by Country')\n",
    "plt.show()"
   ]
  },
  {
   "cell_type": "code",
   "execution_count": 39,
   "id": "16f271c7-3c0c-40f9-a9b1-210d73096ad0",
   "metadata": {},
   "outputs": [
    {
     "data": {
      "image/png": "[encoded data removed]",
      "text/plain": [
       "<Figure size 640x480 with 1 Axes>"
      ]
     },
     "metadata": {},
     "output_type": "display_data"
    }
   ],
   "source": [
    "sns.countplot(data=df,x='Preferred_Device')\n",
    "plt.title('People count by Device')\n",
    "plt.show()"
   ]
  },
  {
   "cell_type": "code",
   "execution_count": 40,
   "id": "e0eca287-488d-4834-9b36-e93245f20224",
   "metadata": {},
   "outputs": [
    {
     "data": {
      "image/png": "[encoded data removed]",
      "text/plain": [
       "<Figure size 640x480 with 1 Axes>"
      ]
     },
     "metadata": {},
     "output_type": "display_data"
    }
   ],
   "source": [
    "sns.boxplot(x='Gender', y='Age', data=df)  \n",
    "plt.title(\"Age Distribution by Gender\")\n",
    "plt.show()"
   ]
  },
  {
   "cell_type": "code",
   "execution_count": 41,
   "id": "f4468945-d1d3-4703-bec2-a8cfcaf62a34",
   "metadata": {},
   "outputs": [
    {
     "data": {
      "image/png": "[encoded data removed]",
      "text/plain": [
       "<Figure size 640x480 with 1 Axes>"
      ]
     },
     "metadata": {},
     "output_type": "display_data"
    }
   ],
   "source": [
    "df_grouped = df.groupby('Gender')['Age'].mean().reset_index()\n",
    "sns.histplot(x='Gender', y='Age', data=df_grouped)\n",
    "plt.title(\"Average Age by Gender\")\n",
    "plt.show()"
   ]
  },
  {
   "cell_type": "code",
   "execution_count": null,
   "id": "5650bfb9-4217-41c4-8448-11af3ac3dc33",
   "metadata": {},
   "outputs": [],
   "source": []
  },
  {
   "cell_type": "code",
   "execution_count": null,
   "id": "7037a424-ab01-44e2-95f5-2055162e042c",
   "metadata": {},
   "outputs": [],
   "source": []
  }
 ],
 "metadata": {
  "kernelspec": {
   "display_name": "Python [conda env:base] *",
   "language": "python",
   "name": "conda-base-py"
  },
  "language_info": {
   "codemirror_mode": {
    "name": "ipython",
    "version": 3
   },
   "file_extension": ".py",
   "mimetype": "text/x-python",
   "name": "python",
   "nbconvert_exporter": "python",
   "pygments_lexer": "ipython3",
   "version": "3.13.5"
  }
 },
 "nbformat": 4,
 "nbformat_minor": 5
}
